{
 "cells": [
  {
   "cell_type": "markdown",
   "metadata": {},
   "source": [
    "热身练习"
   ]
  },
  {
   "cell_type": "code",
   "execution_count": 1,
   "metadata": {
    "collapsed": true
   },
   "outputs": [],
   "source": [
    "from collections import Counter\n",
    "import numpy as np\n",
    "from matplotlib import pyplot as plt\n",
    "%matplotlib inline"
   ]
  },
  {
   "cell_type": "code",
   "execution_count": 2,
   "metadata": {},
   "outputs": [
    {
     "data": {
      "image/png": "[encoded data removed]",
      "text/plain": [
       "<matplotlib.figure.Figure at 0x10f0bee10>"
      ]
     },
     "metadata": {},
     "output_type": "display_data"
    }
   ],
   "source": [
    "def create_dataset():\n",
    "    group = np.array([[1.0, 1.1],\n",
    "                      [1.0, 1.0],\n",
    "                      [0, 0],\n",
    "                      [0, 0.1]])\n",
    "    labels = ['A', 'A', 'B', 'B']\n",
    "    return group, labels\n",
    "\n",
    "group, labels = create_dataset()\n",
    "plt.plot(*zip(*group), 'o');"
   ]
  },
  {
   "cell_type": "code",
   "execution_count": 3,
   "metadata": {},
   "outputs": [
    {
     "data": {
      "text/plain": [
       "'A'"
      ]
     },
     "execution_count": 3,
     "metadata": {},
     "output_type": "execute_result"
    }
   ],
   "source": [
    "def classify0(input_, dataset, labels, k):\n",
    "    size0 = dataset.shape[0]\n",
    "    diff_mat = np.tile(input_, (size0, 1)) - dataset;\n",
    "    distances = ((diff_mat ** 2).sum(axis=1)) ** 0.5;\n",
    "    sorted_dist_indices = distances.argsort()\n",
    "    vote_labels = [labels[sorted_dist_indices[i]] for i in range(k)]\n",
    "    cnt = Counter(vote_labels)\n",
    "    sorted_cnt = sorted(cnt.items(), key=lambda t: t[1], reverse=True)\n",
    "    return sorted_cnt[0][0]\n",
    "\n",
    "classify0([1,1], group, labels, 3)"
   ]
  },
  {
   "cell_type": "markdown",
   "metadata": {},
   "source": [
    "这个函数值得学习的细节:\n",
    "- 借助 np.tile() 实现向量化的求距离\n",
    "- argsort()"
   ]
  }
 ],
 "metadata": {
  "kernelspec": {
   "display_name": "Python 3",
   "language": "python",
   "name": "python3"
  },
  "language_info": {
   "codemirror_mode": {
    "name": "ipython",
    "version": 3
   },
   "file_extension": ".py",
   "mimetype": "text/x-python",
   "name": "python",
   "nbconvert_exporter": "python",
   "pygments_lexer": "ipython3",
   "version": "3.5.2"
  },
  "toc": {
   "colors": {
    "hover_highlight": "#DAA520",
    "running_highlight": "#FF0000",
    "selected_highlight": "#FFD700"
   },
   "moveMenuLeft": true,
   "nav_menu": {
    "height": "12px",
    "width": "252px"
   },
   "navigate_menu": true,
   "number_sections": false,
   "sideBar": true,
   "threshold": 4,
   "toc_cell": false,
   "toc_section_display": "block",
   "toc_window_display": false,
   "widenNotebook": false
  }
 },
 "nbformat": 4,
 "nbformat_minor": 2
}
