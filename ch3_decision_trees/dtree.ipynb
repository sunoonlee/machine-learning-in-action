{
 "cells": [
  {
   "cell_type": "markdown",
   "metadata": {},
   "source": [
    "# ch3 决策树\n",
    "## 3.1 Tree construction"
   ]
  },
  {
   "cell_type": "code",
   "execution_count": 83,
   "metadata": {},
   "outputs": [],
   "source": [
    "from collections import Counter\n",
    "from math import log\n",
    "import matplotlib.pyplot as plt"
   ]
  },
  {
   "cell_type": "markdown",
   "metadata": {},
   "source": [
    "### 计算香农熵"
   ]
  },
  {
   "cell_type": "code",
   "execution_count": 47,
   "metadata": {},
   "outputs": [
    {
     "data": {
      "text/plain": [
       "0.9709505944546686"
      ]
     },
     "execution_count": 47,
     "metadata": {},
     "output_type": "execute_result"
    }
   ],
   "source": [
    "def calc_shannon_ent(dataset):\n",
    "    \"\"\"计算数据集的香农熵\"\"\"\n",
    "    num_entries = len(dataset)\n",
    "    label_counts = Counter()\n",
    "    for feat_vec in dataset:\n",
    "        current_label = feat_vec[-1]\n",
    "        label_counts[current_label] += 1\n",
    "    shannon_ent = 0\n",
    "    for count in label_counts.values():\n",
    "        prob = count / num_entries\n",
    "        shannon_ent -= prob * log(prob, 2)\n",
    "    return shannon_ent\n",
    "\n",
    "def create_dataset():\n",
    "    dataset = [[1, 1, 'y'],\n",
    "               [1, 1, 'y'],\n",
    "               [1, 0, 'n'],\n",
    "               [0, 1, 'n'],\n",
    "               [0, 1, 'n']]\n",
    "    labels = ['feature A', 'feature B']\n",
    "    return dataset, labels\n",
    "\n",
    "dataset, _ = create_dataset()\n",
    "calc_shannon_ent(dataset)"
   ]
  },
  {
   "cell_type": "code",
   "execution_count": 40,
   "metadata": {},
   "outputs": [
    {
     "data": {
      "text/plain": [
       "1.3709505944546687"
      ]
     },
     "execution_count": 40,
     "metadata": {},
     "output_type": "execute_result"
    }
   ],
   "source": [
    "# 增加分类使熵增大\n",
    "dataset[0][-1] = 'maybe'\n",
    "calc_shannon_ent(dataset)"
   ]
  },
  {
   "cell_type": "markdown",
   "metadata": {},
   "source": [
    "### 划分数据集"
   ]
  },
  {
   "cell_type": "code",
   "execution_count": 129,
   "metadata": {},
   "outputs": [
    {
     "data": {
      "text/plain": [
       "[[1, 'y'], [1, 'y'], [0, 'n']]"
      ]
     },
     "execution_count": 129,
     "metadata": {},
     "output_type": "execute_result"
    }
   ],
   "source": [
    "def split_dataset(dataset, axis, value):\n",
    "    \"\"\"得到第 axis 个 feature 取值为 value 的子数据集\"\"\"\n",
    "    return_dataset = []\n",
    "    for feat_vec in dataset:\n",
    "        if feat_vec[axis] == value:\n",
    "            reduced_feat_vec = feat_vec[:axis]\n",
    "            reduced_feat_vec.extend(feat_vec[axis+1:])\n",
    "            return_dataset.append(reduced_feat_vec)\n",
    "    return return_dataset\n",
    "\n",
    "my_data, labels = create_dataset()\n",
    "\n",
    "# feature A 为 1 的数据子集\n",
    "split_dataset(my_data, 0, 1)"
   ]
  },
  {
   "cell_type": "markdown",
   "metadata": {},
   "source": [
    "### 选择最好的数据集划分方式"
   ]
  },
  {
   "cell_type": "code",
   "execution_count": 50,
   "metadata": {},
   "outputs": [
    {
     "data": {
      "text/plain": [
       "0"
      ]
     },
     "execution_count": 50,
     "metadata": {},
     "output_type": "execute_result"
    }
   ],
   "source": [
    "def choose_best_feature_to_split(dataset):\n",
    "    num_features = len(dataset[0]) - 1\n",
    "    base_entropy = calc_shannon_ent(dataset)\n",
    "    best_info_gain = 0\n",
    "    best_feature = -1\n",
    "    \n",
    "    for i in range(num_features):\n",
    "        feat_list = [example[i] for example in dataset]\n",
    "        unique_vals = set(feat_list)\n",
    "        new_entropy = 0\n",
    "        \n",
    "        # 计算特征i的信息增益 (可参考统计学习方法 ch5.2.2)\n",
    "        for val in unique_vals:\n",
    "            sub_dataset = split_dataset(dataset, i, val)\n",
    "            prob = len(sub_dataset) / len(dataset)\n",
    "            new_entropy += prob * calc_shannon_ent(sub_dataset)\n",
    "        info_gain = base_entropy - new_entropy\n",
    "        \n",
    "        if (info_gain > best_info_gain):\n",
    "            best_info_gain = info_gain\n",
    "            best_feature = i\n",
    "    return best_feature\n",
    "\n",
    "choose_best_feature_to_split(my_data)"
   ]
  },
  {
   "cell_type": "markdown",
   "metadata": {},
   "source": [
    "### 递归创建树"
   ]
  },
  {
   "cell_type": "code",
   "execution_count": 56,
   "metadata": {
    "collapsed": true
   },
   "outputs": [],
   "source": [
    "def majority_cnt(class_list):\n",
    "    \"\"\"majority vote\"\"\"\n",
    "    class_count = Counter(class_list)\n",
    "    return class_count.most_common(1)[0][0]"
   ]
  },
  {
   "cell_type": "code",
   "execution_count": 81,
   "metadata": {},
   "outputs": [
    {
     "data": {
      "text/plain": [
       "{'feature A': {0: 'n', 1: {'feature B': {0: 'n', 1: 'y'}}}}"
      ]
     },
     "execution_count": 81,
     "metadata": {},
     "output_type": "execute_result"
    }
   ],
   "source": [
    "def create_tree(dataset, labels):\n",
    "    class_list = [example[-1] for example in dataset]\n",
    "    \n",
    "    # 停止条件1: 节点处所有样本属于同一分类\n",
    "    if class_list.count(class_list[0]) == len(class_list):\n",
    "        return class_list[0]\n",
    "    \n",
    "    # 停止条件2: 特征已经\"用完\"\n",
    "    if len(dataset[0]) == 1:\n",
    "        return majority_cnt(class_list)\n",
    "    \n",
    "    best_feat = choose_best_feature_to_split(dataset)\n",
    "    best_feat_label = labels[best_feat]\n",
    "    tree = {best_feat_label: {}}  # 这里简单地用字典实现, 也可用特殊的数据结构\n",
    "    del(labels[best_feat])\n",
    "    feat_vals = [example[best_feat] for example in dataset]\n",
    "    unique_vals = set(feat_vals)\n",
    "    for val in unique_vals:\n",
    "        sub_labels = labels[:]\n",
    "        tree[best_feat_label][val] = create_tree(\n",
    "            split_dataset(dataset, best_feat, val), sub_labels)\n",
    "    return tree\n",
    "\n",
    "tree = create_tree(my_data, labels)\n",
    "tree"
   ]
  },
  {
   "cell_type": "markdown",
   "metadata": {},
   "source": [
    "## 3.2 Plotting trees\n",
    "### matplotlib annotations"
   ]
  },
  {
   "cell_type": "code",
   "execution_count": 116,
   "metadata": {},
   "outputs": [
    {
     "data": {
      "image/png": "[encoded data removed]",
      "text/plain": [
       "<matplotlib.figure.Figure at 0x10e977668>"
      ]
     },
     "metadata": {},
     "output_type": "display_data"
    }
   ],
   "source": [
    "# define box and array formatting\n",
    "decision_node = dict(boxstyle='sawtooth', fc='0.8')\n",
    "leaf_node = dict(boxstyle='round4', fc='0.8')\n",
    "arrow_args = dict(arrowstyle='<-')\n",
    "\n",
    "def plot_node(node_txt, center_pt, parent_pt, node_type):\n",
    "    \"\"\"draw annotations with arrows\"\"\"\n",
    "    create_plot.ax1.annotate(node_txt, xy=parent_pt, xycoords='axes fraction',\n",
    "                             xytext=center_pt, textcoords='axes fraction',\n",
    "                             va='center', ha='center', bbox=node_type, arrowprops=arrow_args)\n",
    "\n",
    "def create_plot():\n",
    "    fig = plt.figure(1, facecolor='white')\n",
    "    fig.clf()\n",
    "    create_plot.ax1 = plt.subplot(111, frameon=False)\n",
    "    plot_node('a decision node', (0.5, 0.1), (0.1, 0.5), decision_node)\n",
    "    plot_node('a leaf node', (0.8, 0.1), (0.3, 0.8), leaf_node)\n",
    "    plt.show()\n",
    "    \n",
    "create_plot()"
   ]
  },
  {
   "cell_type": "markdown",
   "metadata": {},
   "source": [
    "`create_plot.ax1` 这样定义全局变量的方法还是第一次见.\n",
    "\n",
    "### constructing a tree of annotations"
   ]
  },
  {
   "cell_type": "code",
   "execution_count": 128,
   "metadata": {},
   "outputs": [
    {
     "data": {
      "text/plain": [
       "(3, 2)"
      ]
     },
     "execution_count": 128,
     "metadata": {},
     "output_type": "execute_result"
    }
   ],
   "source": [
    "def get_num_leafs(tree):\n",
    "    num_leafs = 0\n",
    "    first_str = list(tree.keys())[0]\n",
    "    second_dict = tree[first_str]\n",
    "    for val in second_dict.values():\n",
    "        if type(val).__name__ == 'dict':  # 是否有更好的做法?\n",
    "            num_leafs += get_num_leafs(val)\n",
    "        else:\n",
    "            num_leafs += 1\n",
    "    return num_leafs\n",
    "\n",
    "def get_tree_depth(tree):\n",
    "    max_depth = 0\n",
    "    first_str = list(tree.keys())[0]\n",
    "    second_dict = tree[first_str]\n",
    "    for val in second_dict.values():\n",
    "        if type(val).__name__ == 'dict':\n",
    "            this_depth = 1 + get_tree_depth(val)\n",
    "        else:\n",
    "            this_depth = 1\n",
    "        if this_depth > max_depth:\n",
    "            max_depth = this_depth\n",
    "    return max_depth\n",
    "\n",
    "get_num_leafs(tree), get_tree_depth(tree)"
   ]
  },
  {
   "cell_type": "code",
   "execution_count": 132,
   "metadata": {
    "collapsed": true
   },
   "outputs": [],
   "source": [
    "def plot_mid_text(center_pt, parent_pt, txt):\n",
    "    x_mid = (parent_pt[0] - center_pt[0]) / 2 + center_pt[0]\n",
    "    y_mid = (parent_pt[1] - center_pt[1]) / 2 + center_pt[1]\n",
    "    create_plot.ax1.text(x_mid, y_mid, txt)\n",
    "\n",
    "def plot_tree(tree, parent_pt, node_txt):\n",
    "    num_leafs = get_num_leafs(tree)\n",
    "    get_tree_depth(tree)\n",
    "    first_str = list(tree.keys())[0]\n",
    "    center_pt = (plot_tree.xoff + (1.0 + num_leafs) / 2 / plot_tree.total_w, plot_tree.yoff)\n",
    "    plot_mid_text(center_pt, parent_pt, node_txt)\n",
    "    plot_node(first_str, center_pt, parent_pt, decision_node)\n",
    "    second_dict = tree[first_str]\n",
    "    plot_tree.yoff = plot_tree.yoff - 1 / plot_tree.total_d\n",
    "    for key, val in second_dict.items():\n",
    "        if type(val).__name__ == 'dict':\n",
    "            plot_tree(val, center_pt, str(key))\n",
    "        else:\n",
    "            plot_tree.xoff = plot_tree.xoff + 1 / plot_tree.total_w\n",
    "            plot_node(val, (plot_tree.xoff, plot_tree.yoff), center_pt, leaf_node)\n",
    "            plot_mid_text((plot_tree.xoff, plot_tree.yoff), center_pt, str(key))\n",
    "    plot_tree.yoff = plot_tree.yoff + 1 / plot_tree.total_d\n",
    "\n",
    "def create_plot(in_tree):\n",
    "    fig = plt.figure(1, facecolor='white')\n",
    "    fig.clf()\n",
    "    axprops = dict(xticks=[], yticks=[])\n",
    "    create_plot.ax1 = plt.subplot(111, frameon=False, **axprops)\n",
    "    plot_tree.total_w = get_num_leafs(in_tree)\n",
    "    plot_tree.total_d = get_tree_depth(in_tree)\n",
    "    plot_tree.xoff = -0.5 / plot_tree.total_w\n",
    "    plot_tree.yoff = 1.0\n",
    "    plot_tree(in_tree, (0.5, 1.0), '')\n",
    "    plt.show()\n",
    "    "
   ]
  },
  {
   "cell_type": "code",
   "execution_count": 133,
   "metadata": {},
   "outputs": [
    {
     "data": {
      "image/png": "[encoded data removed]",
      "text/plain": [
       "<matplotlib.figure.Figure at 0x10ea45400>"
      ]
     },
     "metadata": {},
     "output_type": "display_data"
    }
   ],
   "source": [
    "create_plot(tree)"
   ]
  },
  {
   "cell_type": "markdown",
   "metadata": {},
   "source": [
    "## 3.3 testing and storing the classifier\n",
    "### use the tree for classification"
   ]
  },
  {
   "cell_type": "code",
   "execution_count": 138,
   "metadata": {},
   "outputs": [
    {
     "data": {
      "text/plain": [
       "'n'"
      ]
     },
     "execution_count": 138,
     "metadata": {},
     "output_type": "execute_result"
    }
   ],
   "source": [
    "def classify(input_tree, feat_labels, test_vec):\n",
    "    first_str = list(input_tree.keys())[0]\n",
    "    second_dict = input_tree[first_str]\n",
    "    feat_index = feat_labels.index(first_str)\n",
    "    for key, val in second_dict.items():\n",
    "        if test_vec[feat_index] == key:\n",
    "            if type(val).__name__ == 'dict':\n",
    "                class_label = classify(val, feat_labels, test_vec)\n",
    "            else:\n",
    "                class_label =val\n",
    "    return class_label\n",
    "\n",
    "classify(tree, labels, [1, 0])"
   ]
  },
  {
   "cell_type": "markdown",
   "metadata": {},
   "source": [
    "### persisting the decision tree\n",
    "use `pickle` to serialize objects  \n",
    "注意 Python 3 中需要使用 'wb' 和 'rb' 模式"
   ]
  },
  {
   "cell_type": "code",
   "execution_count": 141,
   "metadata": {},
   "outputs": [
    {
     "data": {
      "text/plain": [
       "{'feature A': {0: 'n', 1: {'feature B': {0: 'n', 1: 'y'}}}}"
      ]
     },
     "execution_count": 141,
     "metadata": {},
     "output_type": "execute_result"
    }
   ],
   "source": [
    "def store_tree(input_tree, filename):\n",
    "    import pickle\n",
    "    fw = open(filename, 'wb')\n",
    "    pickle.dump(input_tree, fw)\n",
    "    fw.close()\n",
    "\n",
    "def grab_tree(filename):\n",
    "    import pickle\n",
    "    fr = open(filename, 'rb')\n",
    "    return pickle.load(fr)\n",
    "\n",
    "store_tree(tree, '^classifier_storage.txt')\n",
    "grab_tree('^classifier_storage.txt')"
   ]
  },
  {
   "cell_type": "markdown",
   "metadata": {},
   "source": [
    "## 3.4 example\n",
    "预测患者需要佩戴的隐形眼镜类型"
   ]
  },
  {
   "cell_type": "code",
   "execution_count": 142,
   "metadata": {},
   "outputs": [
    {
     "name": "stdout",
     "output_type": "stream",
     "text": [
      "young\tmyope\tno\treduced\tno lenses\r\n",
      "young\tmyope\tno\tnormal\tsoft\r\n",
      "young\tmyope\tyes\treduced\tno lenses\r\n",
      "young\tmyope\tyes\tnormal\thard\r\n",
      "young\thyper\tno\treduced\tno lenses\r\n",
      "young\thyper\tno\tnormal\tsoft\r\n",
      "young\thyper\tyes\treduced\tno lenses\r\n",
      "young\thyper\tyes\tnormal\thard\r\n",
      "pre\tmyope\tno\treduced\tno lenses\r\n",
      "pre\tmyope\tno\tnormal\tsoft\r\n"
     ]
    }
   ],
   "source": [
    "!head -10 lenses.txt"
   ]
  },
  {
   "cell_type": "code",
   "execution_count": 145,
   "metadata": {},
   "outputs": [
    {
     "data": {
      "text/plain": [
       "{'tearRate': {'normal': {'astigmatic': {'no': {'age': {'pre': 'soft',\n",
       "      'presbyopic': {'prescript': {'hyper': 'soft', 'myope': 'no lenses'}},\n",
       "      'young': 'soft'}},\n",
       "    'yes': {'prescript': {'hyper': {'age': {'pre': 'no lenses',\n",
       "        'presbyopic': 'no lenses',\n",
       "        'young': 'hard'}},\n",
       "      'myope': 'hard'}}}},\n",
       "  'reduced': 'no lenses'}}"
      ]
     },
     "execution_count": 145,
     "metadata": {},
     "output_type": "execute_result"
    }
   ],
   "source": [
    "fr = open('lenses.txt')\n",
    "lenses = [line.strip().split('\\t') for line in fr.readlines()]\n",
    "lenses_labels = ['age', 'prescript', 'astigmatic', 'tearRate']\n",
    "lenses_tree = create_tree(lenses, lenses_labels)\n",
    "lenses_tree"
   ]
  },
  {
   "cell_type": "code",
   "execution_count": 146,
   "metadata": {},
   "outputs": [
    {
     "data": {
      "image/png": "[encoded data removed]",
      "text/plain": [
       "<matplotlib.figure.Figure at 0x10eafdba8>"
      ]
     },
     "metadata": {},
     "output_type": "display_data"
    }
   ],
   "source": [
    "create_plot(lenses_tree)"
   ]
  },
  {
   "cell_type": "markdown",
   "metadata": {},
   "source": [
    "## 小结\n",
    "\n",
    "* 本章采用 ID3 算法, 特征选择和分支创建依据信息增益准则. 该算法只能处理 nominal 数据, 无法处理 numerical 数据.\n",
    "* 递归方法在决策树的生成, 绘制和预测中都很有用.\n",
    "* 用 matplotlib 绘制决策树.\n",
    "* 本章未涉及决策树剪枝."
   ]
  }
 ],
 "metadata": {
  "kernelspec": {
   "display_name": "Python 3",
   "language": "python",
   "name": "python3"
  },
  "language_info": {
   "codemirror_mode": {
    "name": "ipython",
    "version": 3
   },
   "file_extension": ".py",
   "mimetype": "text/x-python",
   "name": "python",
   "nbconvert_exporter": "python",
   "pygments_lexer": "ipython3",
   "version": "3.5.2"
  },
  "toc": {
   "colors": {
    "hover_highlight": "#DAA520",
    "running_highlight": "#FF0000",
    "selected_highlight": "#FFD700"
   },
   "moveMenuLeft": true,
   "nav_menu": {
    "height": "264px",
    "width": "252px"
   },
   "navigate_menu": true,
   "number_sections": false,
   "sideBar": false,
   "threshold": 4,
   "toc_cell": false,
   "toc_position": {
    "height": "859px",
    "left": "972px",
    "right": "20px",
    "top": "115px",
    "width": "212px"
   },
   "toc_section_display": "block",
   "toc_window_display": true,
   "widenNotebook": false
  }
 },
 "nbformat": 4,
 "nbformat_minor": 2
}
