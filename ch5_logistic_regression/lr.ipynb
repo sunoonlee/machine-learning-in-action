{
 "cells": [
  {
   "cell_type": "markdown",
   "metadata": {},
   "source": [
    "## Logistic 回归"
   ]
  },
  {
   "cell_type": "markdown",
   "metadata": {},
   "source": [
    "Logistic regression 是一种简单的分类模型"
   ]
  },
  {
   "cell_type": "code",
   "execution_count": 10,
   "metadata": {
    "collapsed": true
   },
   "outputs": [],
   "source": [
    "import numpy as np\n",
    "from matplotlib import pyplot as plt\n",
    "%matplotlib inline"
   ]
  },
  {
   "cell_type": "markdown",
   "metadata": {},
   "source": [
    "### sigmoid 函数"
   ]
  },
  {
   "cell_type": "code",
   "execution_count": 9,
   "metadata": {},
   "outputs": [
    {
     "data": {
      "image/png": "[encoded data removed]",
      "text/plain": [
       "<matplotlib.figure.Figure at 0x112b5d080>"
      ]
     },
     "metadata": {},
     "output_type": "display_data"
    }
   ],
   "source": [
    "x = np.arange(-10, 10, 0.5)\n",
    "y = 1 / (1 + np.exp(-x))\n",
    "plt.plot(x, y);"
   ]
  },
  {
   "cell_type": "markdown",
   "metadata": {},
   "source": [
    "### 梯度下降"
   ]
  },
  {
   "cell_type": "code",
   "execution_count": 13,
   "metadata": {},
   "outputs": [
    {
     "name": "stdout",
     "output_type": "stream",
     "text": [
      "-0.017612\t14.053064\t0\r\n",
      "-1.395634\t4.662541\t1\r\n",
      "-0.752157\t6.538620\t0\r\n",
      "-1.322371\t7.152853\t0\r\n",
      "0.423363\t11.054677\t0\r\n",
      "0.406704\t7.067335\t1\r\n",
      "0.667394\t12.741452\t0\r\n",
      "-2.460150\t6.866805\t1\r\n",
      "0.569411\t9.548755\t0\r\n",
      "-0.026632\t10.427743\t0\r\n"
     ]
    }
   ],
   "source": [
    "!head testSet.txt"
   ]
  },
  {
   "cell_type": "markdown",
   "metadata": {},
   "source": [
    "LR 梯度下降的参数更新: $\\theta := \\theta - \\frac{\\alpha}{m} X^T (g(X\\theta) - y)$  "
   ]
  },
  {
   "cell_type": "code",
   "execution_count": 59,
   "metadata": {},
   "outputs": [
    {
     "data": {
      "text/plain": [
       "array([[ 4.12414349],\n",
       "       [ 0.48007329],\n",
       "       [-0.6168482 ]])"
      ]
     },
     "execution_count": 59,
     "metadata": {},
     "output_type": "execute_result"
    }
   ],
   "source": [
    "def load_dataset():\n",
    "    data_mat = []\n",
    "    label_mat = []\n",
    "    with open('testSet.txt') as f:\n",
    "        for line in f.readlines():\n",
    "            line_arr = line.strip().split()\n",
    "            data_mat.append([1.0, float(line_arr[0]), float(line_arr[1])])\n",
    "            label_mat.append(int(line_arr[2]))\n",
    "    return data_mat, label_mat\n",
    "\n",
    "def sigmoid(x):\n",
    "    return 1 / (1 + np.exp(-x))\n",
    "\n",
    "def grad_descent(data, class_labels):\n",
    "    \"\"\"原书中为梯度上升, 这里改为梯度下降\"\"\"\n",
    "    data_matrix = np.mat(data)\n",
    "    label_mat = np.mat(class_labels).transpose()\n",
    "    m, n = np.shape(data_matrix)\n",
    "    alpha = 0.001\n",
    "    max_cycles = 500\n",
    "    weights = np.ones((n, 1))\n",
    "    for k in range(max_cycles):\n",
    "        h = sigmoid(data_matrix * weights)\n",
    "        error = h - label_mat\n",
    "        weights = weights - alpha * data_matrix.transpose() * error\n",
    "    return weights.getA()  # 把 matrix 转为 ndarray\n",
    "\n",
    "data_mat, label_mat = load_dataset()\n",
    "grad_descent(data_mat, label_mat)"
   ]
  },
  {
   "cell_type": "markdown",
   "metadata": {},
   "source": [
    "### 绘制决策界面"
   ]
  },
  {
   "cell_type": "code",
   "execution_count": 60,
   "metadata": {},
   "outputs": [
    {
     "data": {
      "image/png": "[encoded data removed]",
      "text/plain": [
       "<matplotlib.figure.Figure at 0x112e46668>"
      ]
     },
     "metadata": {},
     "output_type": "display_data"
    }
   ],
   "source": [
    "def plot_best_fit(weights):\n",
    "    data_mat, label_mat = load_dataset()\n",
    "    data_arr = np.array(data_mat)\n",
    "    n = data_arr.shape[0]\n",
    "    xcord1 = []\n",
    "    ycord1 = []\n",
    "    xcord2 = []\n",
    "    ycord2 = []\n",
    "    for i in range(n):\n",
    "        if int(label_mat[i]) == 1:\n",
    "            xcord1.append(data_arr[i, 1])\n",
    "            ycord1.append(data_arr[i, 2])\n",
    "        else:\n",
    "            xcord2.append(data_arr[i, 1])\n",
    "            ycord2.append(data_arr[i, 2])\n",
    "    fig = plt.figure()\n",
    "    ax = fig.add_subplot(111)\n",
    "    ax.scatter(xcord1, ycord1, s=30, c='red', marker='s')\n",
    "    ax.scatter(xcord2, ycord2, s=30, c='green')\n",
    "    x = np.arange(-3, 3, 0.1)\n",
    "    y = (-weights[0] - weights[1] * x) / weights[2]\n",
    "    ax.plot(x, y)\n",
    "    plt.xlabel('X1')\n",
    "    plt.ylabel('X2')\n",
    "\n",
    "weights = grad_descent(data_mat, label_mat)\n",
    "plot_best_fit(weights)"
   ]
  },
  {
   "cell_type": "markdown",
   "metadata": {},
   "source": [
    "### 随机梯度下降"
   ]
  },
  {
   "cell_type": "code",
   "execution_count": 71,
   "metadata": {},
   "outputs": [
    {
     "data": {
      "image/png": "[encoded data removed]",
      "text/plain": [
       "<matplotlib.figure.Figure at 0x1138b89b0>"
      ]
     },
     "metadata": {},
     "output_type": "display_data"
    }
   ],
   "source": [
    "def sgd(data_matrix, class_labels, num_iter=150):\n",
    "    m, n = np.shape(data_matrix)\n",
    "    weights = np.ones(n)\n",
    "    for j in range(num_iter):\n",
    "        data_index = list(range(m))\n",
    "        for i in range(m):\n",
    "            alpha = 4 / (1 + j + i) + 0.01  # 动态调整学习率\n",
    "            rand_index = int(np.random.uniform(0, len(data_index)))  # 随机选择样本\n",
    "            h = sigmoid(np.sum(data_matrix[rand_index] * weights))\n",
    "            error = h - class_labels[rand_index]\n",
    "            weights = weights - alpha * error * data_matrix[rand_index]\n",
    "            del(data_index[rand_index])\n",
    "    return weights\n",
    "\n",
    "weights_sgd = sgd(np.array(data_mat), label_mat)\n",
    "plot_best_fit(weights_sgd)"
   ]
  },
  {
   "cell_type": "markdown",
   "metadata": {},
   "source": [
    "### 示例: estimating horse fatalities from colic\n",
    "\n",
    "原始数据集见 [UCI Machine Learning Repository: Horse Colic Data Set](http://archive.ics.uci.edu/ml/datasets/Horse+Colic). \n",
    "\n",
    "其中有 30% 的缺失值. 缺失值的处理方法可以是:\n",
    "- 使用均值\n",
    "- 使用特殊值如 -1\n",
    "- 忽略有缺失值的样本\n",
    "- 使用相似样本的均值\n",
    "- 用某种机器学习算法预测缺失值\n",
    "\n",
    "本例中将缺失值设为0. 特征取值为0时对结果的预测没有倾向性, 因为 sigmoid(0) = 0.5. 作者已将其处理为 `horseColicTest.txt` 和 `horseColicTraining.txt`."
   ]
  },
  {
   "cell_type": "code",
   "execution_count": 73,
   "metadata": {},
   "outputs": [
    {
     "name": "stderr",
     "output_type": "stream",
     "text": [
      "/Users/lim/.pyenv/versions/3.5.2/lib/python3.5/site-packages/ipykernel_launcher.py:12: RuntimeWarning: overflow encountered in exp\n",
      "  if sys.path[0] == '':\n"
     ]
    },
    {
     "name": "stdout",
     "output_type": "stream",
     "text": [
      "the error rate of this test: 0.29850746268656714\n",
      "the error rate of this test: 0.2835820895522388\n",
      "the error rate of this test: 0.43283582089552236\n",
      "the error rate of this test: 0.373134328358209\n",
      "the error rate of this test: 0.34328358208955223\n",
      "the error rate of this test: 0.373134328358209\n",
      "the error rate of this test: 0.29850746268656714\n",
      "the error rate of this test: 0.4925373134328358\n",
      "the error rate of this test: 0.40298507462686567\n",
      "the error rate of this test: 0.26865671641791045\n",
      "after 10 iterations, the average error rate is 0.3567164179104477\n"
     ]
    }
   ],
   "source": [
    "def classify(input_, weights):\n",
    "    prob = sigmoid(np.sum(input_ * weights))\n",
    "    return 1 if prob > 0.5 else 0\n",
    "\n",
    "def colic_test():\n",
    "    training_set = []\n",
    "    training_labels = []\n",
    "    with open('horseColicTraining.txt') as f:\n",
    "        for line in f.readlines():\n",
    "            curr_line = line.strip().split('\\t')\n",
    "            line_arr = []\n",
    "            for i in range(21):\n",
    "                line_arr.append(float(curr_line[i]))\n",
    "            training_set.append(line_arr)\n",
    "            training_labels.append(float(curr_line[21]))    \n",
    "    train_weights = sgd(np.array(training_set), training_labels, 500)\n",
    "\n",
    "    error_count = 0\n",
    "    num_test_vec = 0\n",
    "    with open('horseColicTest.txt') as f:\n",
    "        for line in f.readlines():\n",
    "            num_test_vec += 1\n",
    "            curr_line = line.strip().split('\\t')\n",
    "            line_arr = []\n",
    "            for i in range(21):\n",
    "                line_arr.append(float(curr_line[i]))\n",
    "            if classify(np.array(line_arr), train_weights) != int(curr_line[21]):\n",
    "                error_count += 1\n",
    "    error_rate = error_count / num_test_vec\n",
    "    print('the error rate of this test: {}'.format(error_rate))\n",
    "    return error_rate\n",
    "\n",
    "def multi_test():\n",
    "    num_tests = 10\n",
    "    error_sum = 0\n",
    "    for k in range(num_tests):\n",
    "        error_sum += colic_test()\n",
    "    print('after {} iterations, the average error rate is {}'.format(\n",
    "        num_tests, error_sum / num_tests))\n",
    "\n",
    "multi_test()        "
   ]
  },
  {
   "cell_type": "markdown",
   "metadata": {},
   "source": [
    "结果不算很好. 原因之一是数据集中有 30% 的数据缺失."
   ]
  },
  {
   "cell_type": "code",
   "execution_count": null,
   "metadata": {
    "collapsed": true
   },
   "outputs": [],
   "source": []
  }
 ],
 "metadata": {
  "kernelspec": {
   "display_name": "Python 3",
   "language": "python",
   "name": "python3"
  },
  "language_info": {
   "codemirror_mode": {
    "name": "ipython",
    "version": 3
   },
   "file_extension": ".py",
   "mimetype": "text/x-python",
   "name": "python",
   "nbconvert_exporter": "python",
   "pygments_lexer": "ipython3",
   "version": "3.5.2"
  },
  "toc": {
   "colors": {
    "hover_highlight": "#DAA520",
    "running_highlight": "#FF0000",
    "selected_highlight": "#FFD700"
   },
   "moveMenuLeft": true,
   "nav_menu": {
    "height": "135px",
    "width": "252px"
   },
   "navigate_menu": true,
   "number_sections": false,
   "sideBar": true,
   "threshold": 4,
   "toc_cell": false,
   "toc_section_display": "block",
   "toc_window_display": false,
   "widenNotebook": false
  }
 },
 "nbformat": 4,
 "nbformat_minor": 2
}
